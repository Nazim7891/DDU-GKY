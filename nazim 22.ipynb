{
 "cells": [
  {
   "cell_type": "code",
   "execution_count": 1,
   "id": "67464d40",
   "metadata": {},
   "outputs": [],
   "source": [
    "#merging two dictionaries"
   ]
  },
  {
   "cell_type": "code",
   "execution_count": 2,
   "id": "99e623c1",
   "metadata": {},
   "outputs": [],
   "source": [
    "\n",
    "dict1={\n",
    "    'name':'unkwown'\n",
    "}\n",
    "dict2={\n",
    "    'age':45\n",
    "}\n"
   ]
  },
  {
   "cell_type": "code",
   "execution_count": 3,
   "id": "42af2f57",
   "metadata": {},
   "outputs": [],
   "source": [
    "dict1['place']='kochi'\n",
    "dict1['family']='none'"
   ]
  },
  {
   "cell_type": "code",
   "execution_count": 4,
   "id": "a8573b3c",
   "metadata": {},
   "outputs": [],
   "source": [
    "dict1['family']='none'"
   ]
  },
  {
   "cell_type": "code",
   "execution_count": 5,
   "id": "a8afd4ca",
   "metadata": {},
   "outputs": [],
   "source": [
    "dict1['micro family']='none'"
   ]
  },
  {
   "cell_type": "code",
   "execution_count": 6,
   "id": "bc86adad",
   "metadata": {},
   "outputs": [
    {
     "data": {
      "text/plain": [
       "{'name': 'unkwown', 'place': 'kochi', 'family': 'none', 'micro family': 'none'}"
      ]
     },
     "execution_count": 6,
     "metadata": {},
     "output_type": "execute_result"
    }
   ],
   "source": [
    "dict1"
   ]
  },
  {
   "cell_type": "code",
   "execution_count": 7,
   "id": "c875fd19",
   "metadata": {},
   "outputs": [],
   "source": [
    "dict1.update(dict2)"
   ]
  },
  {
   "cell_type": "code",
   "execution_count": 8,
   "id": "8b027332",
   "metadata": {},
   "outputs": [
    {
     "data": {
      "text/plain": [
       "{'name': 'unkwown',\n",
       " 'place': 'kochi',\n",
       " 'family': 'none',\n",
       " 'micro family': 'none',\n",
       " 'age': 45}"
      ]
     },
     "execution_count": 8,
     "metadata": {},
     "output_type": "execute_result"
    }
   ],
   "source": [
    "dict1"
   ]
  },
  {
   "cell_type": "code",
   "execution_count": 9,
   "id": "4df779c7",
   "metadata": {},
   "outputs": [],
   "source": [
    "#sum of all values in the dictionary"
   ]
  },
  {
   "cell_type": "code",
   "execution_count": 10,
   "id": "da39b5b2",
   "metadata": {},
   "outputs": [],
   "source": [
    "dict3={1:2,3:4,5:6,7:8,9:10}\n",
    "sum_dict2=sum(dict3)"
   ]
  },
  {
   "cell_type": "code",
   "execution_count": 11,
   "id": "cc4682ad",
   "metadata": {},
   "outputs": [
    {
     "data": {
      "text/plain": [
       "25"
      ]
     },
     "execution_count": 11,
     "metadata": {},
     "output_type": "execute_result"
    }
   ],
   "source": [
    "sum_dict2"
   ]
  },
  {
   "cell_type": "code",
   "execution_count": 12,
   "id": "80578581",
   "metadata": {},
   "outputs": [],
   "source": [
    "#multiply all the items in the dictionary"
   ]
  },
  {
   "cell_type": "code",
   "execution_count": 13,
   "id": "abbb327a",
   "metadata": {},
   "outputs": [
    {
     "name": "stdout",
     "output_type": "stream",
     "text": [
      "3840\n"
     ]
    }
   ],
   "source": [
    "dict4={1:2,3:4,5:6,7:8,9:10}\n",
    "mult=1\n",
    "for i in dict4.values():\n",
    "    mult=mult*i\n",
    "print(mult)"
   ]
  },
  {
   "cell_type": "code",
   "execution_count": 14,
   "id": "2393d4ae",
   "metadata": {},
   "outputs": [
    {
     "name": "stdout",
     "output_type": "stream",
     "text": [
      "4160000\n"
     ]
    }
   ],
   "source": [
    "dict5={12:1000,45:46,45:46,55:65,45:64}\n",
    "mult=1\n",
    "for i in dict5.values():\n",
    "    mult=mult*i\n",
    "print(mult)"
   ]
  },
  {
   "cell_type": "code",
   "execution_count": 15,
   "id": "6f1c1582",
   "metadata": {},
   "outputs": [],
   "source": [
    "#program to remoove value fro dictionarty\n"
   ]
  },
  {
   "cell_type": "code",
   "execution_count": 16,
   "id": "b4c125c6",
   "metadata": {},
   "outputs": [],
   "source": [
    "dict6={4:5,7:8,2:6,3:9,}\n",
    "del(dict6)[4]"
   ]
  },
  {
   "cell_type": "code",
   "execution_count": 17,
   "id": "ab410530",
   "metadata": {},
   "outputs": [
    {
     "data": {
      "text/plain": [
       "{7: 8, 2: 6, 3: 9}"
      ]
     },
     "execution_count": 17,
     "metadata": {},
     "output_type": "execute_result"
    }
   ],
   "source": [
    "dict6"
   ]
  },
  {
   "cell_type": "code",
   "execution_count": 18,
   "id": "efd8a552",
   "metadata": {},
   "outputs": [],
   "source": [
    "del(dict6)[7]"
   ]
  },
  {
   "cell_type": "code",
   "execution_count": 19,
   "id": "95d5a8c8",
   "metadata": {},
   "outputs": [
    {
     "data": {
      "text/plain": [
       "{2: 6, 3: 9}"
      ]
     },
     "execution_count": 19,
     "metadata": {},
     "output_type": "execute_result"
    }
   ],
   "source": [
    "dict6"
   ]
  },
  {
   "cell_type": "code",
   "execution_count": 20,
   "id": "0ed2a3fc",
   "metadata": {},
   "outputs": [],
   "source": [
    "del(dict6)[2]"
   ]
  },
  {
   "cell_type": "code",
   "execution_count": 21,
   "id": "ef5ed20e",
   "metadata": {},
   "outputs": [
    {
     "name": "stdout",
     "output_type": "stream",
     "text": [
      "{3: 9}\n"
     ]
    }
   ],
   "source": [
    "print(dict6)"
   ]
  },
  {
   "cell_type": "code",
   "execution_count": 23,
   "id": "99578c06",
   "metadata": {},
   "outputs": [
    {
     "name": "stdout",
     "output_type": "stream",
     "text": [
      "enter the limit12\n",
      "{1: 1, 2: 4, 3: 9, 4: 16, 5: 25, 6: 36, 7: 49, 8: 64, 9: 81, 10: 100, 11: 121, 12: 144}\n"
     ]
    }
   ],
   "source": [
    "x=int(input('enter the limit'))\n",
    "v={}\n",
    "for i in range(1,x+1):\n",
    "    j=i*i\n",
    "    v[i]=j\n",
    "print(v)\n",
    "    \n",
    "    "
   ]
  },
  {
   "cell_type": "code",
   "execution_count": null,
   "id": "9d0e7e16",
   "metadata": {},
   "outputs": [],
   "source": []
  }
 ],
 "metadata": {
  "kernelspec": {
   "display_name": "Python 3 (ipykernel)",
   "language": "python",
   "name": "python3"
  },
  "language_info": {
   "codemirror_mode": {
    "name": "ipython",
    "version": 3
   },
   "file_extension": ".py",
   "mimetype": "text/x-python",
   "name": "python",
   "nbconvert_exporter": "python",
   "pygments_lexer": "ipython3",
   "version": "3.9.13"
  }
 },
 "nbformat": 4,
 "nbformat_minor": 5
}
