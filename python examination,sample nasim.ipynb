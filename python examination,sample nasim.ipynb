{
 "cells": [
  {
   "cell_type": "code",
   "execution_count": 3,
   "id": "c4191800",
   "metadata": {},
   "outputs": [
    {
     "name": "stdout",
     "output_type": "stream",
     "text": [
      "enter the limit10\n",
      "1\n",
      "3\n",
      "5\n",
      "7\n",
      "9\n"
     ]
    }
   ],
   "source": [
    "x=1\n",
    "y=int(input('enter the limit'))\n",
    "for i in range(1,y+1):\n",
    "    if (i%2!=0):\n",
    "        print(i)"
   ]
  },
  {
   "cell_type": "code",
   "execution_count": 6,
   "id": "ccc4f9cf",
   "metadata": {},
   "outputs": [
    {
     "name": "stdout",
     "output_type": "stream",
     "text": [
      "enter the number-10\n",
      "this is a negative number \n"
     ]
    }
   ],
   "source": [
    "q=int(input('enter the number'))\n",
    "if q>0:\n",
    "    print('this is a possitive number')\n",
    "else:\n",
    "    print('this is a negative number ')"
   ]
  },
  {
   "cell_type": "code",
   "execution_count": 20,
   "id": "83a4c1d8",
   "metadata": {},
   "outputs": [
    {
     "name": "stdout",
     "output_type": "stream",
     "text": [
      "210\n"
     ]
    }
   ],
   "source": [
    "sum=0\n",
    "task=20\n",
    "for i in range(1,20+1):\n",
    "    sum=sum+i\n",
    "print(sum)\n",
    "   \n",
    "    "
   ]
  },
  {
   "cell_type": "code",
   "execution_count": 14,
   "id": "94d13b39",
   "metadata": {},
   "outputs": [
    {
     "name": "stdout",
     "output_type": "stream",
     "text": [
      "h\n",
      "e\n",
      "l\n",
      "l\n",
      "o\n",
      " \n",
      "w\n",
      "o\n",
      "r\n",
      "l\n",
      "d\n"
     ]
    }
   ],
   "source": [
    "task1=('hello world')\n",
    "for i in task1:\n",
    "    print(i)\n"
   ]
  },
  {
   "cell_type": "code",
   "execution_count": 18,
   "id": "5910924f",
   "metadata": {},
   "outputs": [
    {
     "name": "stdout",
     "output_type": "stream",
     "text": [
      "dlrow ooleh\n"
     ]
    }
   ],
   "source": [
    "string=('heloo world')\n",
    "print(string [::-1])"
   ]
  },
  {
   "cell_type": "code",
   "execution_count": 23,
   "id": "afa9b5c1",
   "metadata": {},
   "outputs": [
    {
     "name": "stdout",
     "output_type": "stream",
     "text": [
      "jello world\n"
     ]
    }
   ],
   "source": [
    "task2=('hello world')\n",
    "print(task2.replace('h','j'))\n"
   ]
  },
  {
   "cell_type": "code",
   "execution_count": 54,
   "id": "8d73796f",
   "metadata": {},
   "outputs": [
    {
     "name": "stdout",
     "output_type": "stream",
     "text": [
      "523.3333333333334\n"
     ]
    }
   ],
   "source": [
    "def sphere(s):\n",
    "    volume=(4/3)*3.14*s*s*s\n",
    "    print(volume)\n",
    "sphere(5)\n",
    "    "
   ]
  },
  {
   "cell_type": "code",
   "execution_count": 26,
   "id": "905f6dde",
   "metadata": {},
   "outputs": [
    {
     "name": "stdout",
     "output_type": "stream",
     "text": [
      "mango\n"
     ]
    }
   ],
   "source": [
    "tuple=('mango')\n",
    "print(tuple)"
   ]
  },
  {
   "cell_type": "code",
   "execution_count": 41,
   "id": "a79b59dc",
   "metadata": {},
   "outputs": [
    {
     "name": "stdout",
     "output_type": "stream",
     "text": [
      "['kiwi', 'banana', 'cherry']\n"
     ]
    }
   ],
   "source": [
    "fruits=['apple','banana','cherry']\n",
    "fruits[0]='kiwi'\n",
    "print(fruits)"
   ]
  },
  {
   "cell_type": "code",
   "execution_count": 49,
   "id": "8b57fc89",
   "metadata": {},
   "outputs": [
    {
     "name": "stdout",
     "output_type": "stream",
     "text": [
      "enter the limit10\n",
      "{1: 1, 2: 4, 3: 9, 4: 16, 5: 25, 6: 36, 7: 49, 8: 64, 9: 81, 10: 100}\n"
     ]
    }
   ],
   "source": [
    "dic=int(input('enter the limit'))\n",
    "format={}\n",
    "for i in range (1,dic+1):\n",
    "    f=i*i\n",
    "    format[i]=f\n",
    "print(format)"
   ]
  },
  {
   "cell_type": "code",
   "execution_count": 67,
   "id": "e692e4bd",
   "metadata": {},
   "outputs": [
    {
     "name": "stdout",
     "output_type": "stream",
     "text": [
      "enter the radius6\n",
      "904.3199999999998\n"
     ]
    }
   ],
   "source": [
    "def sp (d):\n",
    "    \n",
    "    volume1=(4/3)*3.14*d*d*d\n",
    "    print(volume1)\n",
    "sp(int(input('enter the radius')))"
   ]
  },
  {
   "cell_type": "code",
   "execution_count": null,
   "id": "6500e40a",
   "metadata": {},
   "outputs": [],
   "source": []
  }
 ],
 "metadata": {
  "kernelspec": {
   "display_name": "Python 3 (ipykernel)",
   "language": "python",
   "name": "python3"
  },
  "language_info": {
   "codemirror_mode": {
    "name": "ipython",
    "version": 3
   },
   "file_extension": ".py",
   "mimetype": "text/x-python",
   "name": "python",
   "nbconvert_exporter": "python",
   "pygments_lexer": "ipython3",
   "version": "3.9.13"
  }
 },
 "nbformat": 4,
 "nbformat_minor": 5
}
